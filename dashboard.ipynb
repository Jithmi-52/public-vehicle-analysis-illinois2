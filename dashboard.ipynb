{
 "cells": [
  {
   "cell_type": "code",
   "execution_count": null,
   "metadata": {},
   "outputs": [],
   "source": [
    "import dash\n",
    "from dash import dcc, html, Input, Output\n",
    "import pandas as pd\n",
    "import plotly.express as px\n",
    "import webbrowser\n",
    "from geopy.geocoders import Nominatim\n",
    "from geopy.exc import GeocoderTimedOut\n",
    "\n",
    "# Load Data\n",
    "vehicles_df = pd.read_csv('vehicles_df.csv')\n",
    "\n",
    "# Initialize Dash App\n",
    "app = dash.Dash(__name__)\n",
    "\n",
    "app.layout = html.Div([\n",
    "    # Title and Introduction\n",
    "    html.Div([\n",
    "        html.H1(\"Vehicle Hierarchy Dashboard\", style={'textAlign': 'center'}),\n",
    "        html.P(\n",
    "            \"This dashboard provides an interactive view of vehicle registrations, categorized by their \"\n",
    "            \"make, model, and color. Use the dropdown below to filter by fuel type and explore the hierarchy.\",\n",
    "            style={'textAlign': 'center', 'fontSize': '18px', 'marginBottom': '20px'}\n",
    "        ),\n",
    "        html.P(\n",
    "            \"Hover over the segments in the sunburst chart to view detailed information about the vehicles.\",\n",
    "            style={'textAlign': 'center', 'fontSize': '16px', 'color': 'white'}\n",
    "        )\n",
    "    ], style={'padding': '20px', 'backgroundColor': '#769199'}),\n",
    "    # Footer\n",
    "    html.Div([\n",
    "        html.P(\n",
    "            \"This dashboard is for demonstration purposes only and is not connected to a live database. \"\n",
    "            \"The data used here is a sample dataset and does not reflect actual vehicle registrations.\",\n",
    "            style={'textAlign': 'center', 'fontSize': '14px', 'color': 'white'}\n",
    "        )\n",
    "    ], style={'padding': '20px', 'backgroundColor': '#769199'})\n",
    "])\n",
    "\n",
    "\n",
    "\n",
    "# Run the App\n",
    "if __name__ == '__main__':\n",
    "    webbrowser.open_new('http://127.0.0.1:3000/')\n",
    "    app.run_server(debug=True, host='127.0.0.1', port=3000)\n",
    "    "
   ]
  }
 ],
 "metadata": {
  "kernelspec": {
   "display_name": ".env",
   "language": "python",
   "name": "python3"
  },
  "language_info": {
   "name": "python",
   "version": "3.12.7"
  }
 },
 "nbformat": 4,
 "nbformat_minor": 2
}
