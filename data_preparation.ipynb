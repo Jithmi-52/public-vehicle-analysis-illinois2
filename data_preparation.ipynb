{
 "cells": [
  {
   "cell_type": "code",
   "execution_count": 3,
   "metadata": {},
   "outputs": [
    {
     "name": "stdout",
     "output_type": "stream",
     "text": [
      "Found 9 CSV files.\n",
      "Combined DataFrame saved to 'combined_vehicles_data.csv'.\n"
     ]
    }
   ],
   "source": [
    "import pandas as pd\n",
    "import glob\n",
    "\n",
    "# Define the directory where your CSV files are stored\n",
    "csv_directory = \"./PassengerVehicle_Stats/\"  # Replace with the directory path\n",
    "\n",
    "# Use glob to load all CSV files in the directory into a list\n",
    "csv_files = glob.glob(csv_directory + \"*.csv\")\n",
    "try:\n",
    "        # Check if we have 9 files and load them into a list\n",
    "    if len(csv_files) == 9:\n",
    "        print(f\"Found {len(csv_files)} CSV files.\")\n",
    "        \n",
    "        # Load all CSV files into a list of DataFrames\n",
    "        csv_data_list = [pd.read_csv(file) for file in csv_files]\n",
    "\n",
    "        # Concatenate the list of DataFrames into a single DataFrame\n",
    "        vehicles_df = pd.concat(csv_data_list, ignore_index=True)\n",
    "\n",
    "        # Optionally, save the combined DataFrame to a new CSV file\n",
    "        vehicles_df.to_csv(\"combined_vehicles_data.csv\", index=False)\n",
    "        print(\"Combined DataFrame saved to 'combined_vehicles_data.csv'.\")\n",
    "    else:\n",
    "        print(f\"Expected 9 CSV files, but found {len(csv_files)}. Please check your directory.\")\n",
    "\n",
    "except Exception as e:\n",
    "    print(f\"Error occurred: {e}\")"
   ]
  },
  {
   "cell_type": "code",
   "execution_count": 4,
   "metadata": {},
   "outputs": [
    {
     "name": "stdout",
     "output_type": "stream",
     "text": [
      "Index(['Index', 'Public Vehicle Number', 'Status', 'Vehicle Make',\n",
      "       'Vehicle Model', 'Vehicle Model Year', 'Vehicle Color',\n",
      "       'Vehicle Fuel Source', 'Wheelchair Accessible', 'Company Name',\n",
      "       'Address', 'City', 'State', 'ZIP Code', 'Taxi Affiliation',\n",
      "       'Taxi Medallion License Management ', 'Record ID'],\n",
      "      dtype='object')\n"
     ]
    }
   ],
   "source": [
    "#Renaming the first column\n",
    "vehicles_df.rename(columns={\"Unnamed: 0\": \"Index\"}, inplace=True)\n",
    "print(vehicles_df.columns)"
   ]
  },
  {
   "cell_type": "code",
   "execution_count": 5,
   "metadata": {},
   "outputs": [
    {
     "name": "stdout",
     "output_type": "stream",
     "text": [
      "<class 'pandas.core.frame.DataFrame'>\n",
      "RangeIndex: 16602 entries, 0 to 16601\n",
      "Data columns (total 17 columns):\n",
      " #   Column                              Non-Null Count  Dtype  \n",
      "---  ------                              --------------  -----  \n",
      " 0   Index                               16602 non-null  int64  \n",
      " 1   Public Vehicle Number               16602 non-null  int64  \n",
      " 2   Status                              16602 non-null  object \n",
      " 3   Vehicle Make                        14685 non-null  object \n",
      " 4   Vehicle Model                       14639 non-null  object \n",
      " 5   Vehicle Model Year                  14660 non-null  float64\n",
      " 6   Vehicle Color                       14616 non-null  object \n",
      " 7   Vehicle Fuel Source                 16602 non-null  object \n",
      " 8   Wheelchair Accessible               16602 non-null  object \n",
      " 9   Company Name                        16602 non-null  object \n",
      " 10  Address                             14816 non-null  object \n",
      " 11  City                                14816 non-null  object \n",
      " 12  State                               14816 non-null  object \n",
      " 13  ZIP Code                            14816 non-null  float64\n",
      " 14  Taxi Affiliation                    7348 non-null   object \n",
      " 15  Taxi Medallion License Management   7321 non-null   object \n",
      " 16  Record ID                           16602 non-null  object \n",
      "dtypes: float64(2), int64(2), object(13)\n",
      "memory usage: 2.2+ MB\n",
      "None\n"
     ]
    }
   ],
   "source": [
    "#Data types of the variables\n",
    "print(vehicles_df.info())"
   ]
  },
  {
   "cell_type": "code",
   "execution_count": 6,
   "metadata": {},
   "outputs": [
    {
     "name": "stdout",
     "output_type": "stream",
     "text": [
      "   Index  Public Vehicle Number    Status Vehicle Make Vehicle Model  \\\n",
      "0   1286                  12009  RESERVED    CHEVROLET       EXPRESS   \n",
      "1   2095                  12248  INACTIVE     MERCEDES      SPRINTER   \n",
      "2   7950                  13527  INACTIVE     VAN HOOL         TD925   \n",
      "3   8700                  12248  INACTIVE     MERCEDES      SPRINTER   \n",
      "4   9359                  13528  INACTIVE     VAN HOOL         TD925   \n",
      "\n",
      "   Vehicle Model Year Vehicle Color Vehicle Fuel Source Wheelchair Accessible  \\\n",
      "0              2014.0         BLACK          Bio-Diesel                     N   \n",
      "1              2010.0        SILVER          Bio-Diesel                     N   \n",
      "2              2008.0           RED          Bio-Diesel                     N   \n",
      "3              2010.0        SILVER          Bio-Diesel                     N   \n",
      "4              2008.0           RED          Bio-Diesel                     N   \n",
      "\n",
      "                              Company Name                 Address     City  \\\n",
      "0                CHICAGO PRIVATE TOURS LLC  4567 S. OAKENWALD AVE.  CHICAGO   \n",
      "1  O'HARE-MIDWAY LIMOUSINE SERVICE INC # 2       4610 N. CLARK ST.  CHICAGO   \n",
      "2                 TRT TRANSPORTATION, INC.     4400 S. RACINE AVE.  CHICAGO   \n",
      "3  O'HARE-MIDWAY LIMOUSINE SERVICE INC # 2       4610 N. CLARK ST.  CHICAGO   \n",
      "4                 TRT TRANSPORTATION, INC.     4400 S. RACINE AVE.  CHICAGO   \n",
      "\n",
      "  State  ZIP Code Taxi Affiliation Taxi Medallion License Management   \\\n",
      "0    IL   60653.0              NaN                                NaN   \n",
      "1    IL   60640.0              NaN                                NaN   \n",
      "2    IL   60609.0              NaN                                NaN   \n",
      "3    IL   60640.0              NaN                                NaN   \n",
      "4    IL   60609.0              NaN                                NaN   \n",
      "\n",
      "                  Record ID  \n",
      "0  12009Charter Sightseeing  \n",
      "1  12248Charter Sightseeing  \n",
      "2  13527Charter Sightseeing  \n",
      "3  12248Charter Sightseeing  \n",
      "4  13528Charter Sightseeing  \n"
     ]
    }
   ],
   "source": [
    "#First few records of the vehicles data frame\n",
    "print(vehicles_df.head())"
   ]
  },
  {
   "cell_type": "code",
   "execution_count": 7,
   "metadata": {},
   "outputs": [
    {
     "name": "stdout",
     "output_type": "stream",
     "text": [
      "Mode values for each qualitative variable:\n",
      "   Status Vehicle Make Vehicle Model Vehicle Color Vehicle Fuel Source  \\\n",
      "0  ACTIVE       TOYOTA         CAMRY         WHITE            Gasoline   \n",
      "\n",
      "  Wheelchair Accessible          Company Name                 Address  \\\n",
      "0                     N  CITY OF CHICAGO BACP  3800 N. MILWAUKEE AVE.   \n",
      "\n",
      "      City State Taxi Affiliation Taxi Medallion License Management   \n",
      "0  CHICAGO    IL   DIS-AFFILIATED                      Owner Manager  \n"
     ]
    }
   ],
   "source": [
    "# All the variables consisit with qualitative nature\n",
    "#Identifying the mode of variables\n",
    "qualitative_columns = vehicles_df.select_dtypes(include=['object', 'category']).columns\n",
    "mode_values = vehicles_df[qualitative_columns.drop('Record ID')].mode()\n",
    "print(\"Mode values for each qualitative variable:\")\n",
    "print(mode_values)"
   ]
  },
  {
   "cell_type": "code",
   "execution_count": 8,
   "metadata": {},
   "outputs": [
    {
     "name": "stdout",
     "output_type": "stream",
     "text": [
      "Status\n",
      "ACTIVE         7222\n",
      "VIOLATION      3974\n",
      "INACTIVE       3702\n",
      "SURRENDER       888\n",
      "RESERVED        582\n",
      "REVOKED         147\n",
      "FORECLOSURE      82\n",
      "HOLD              5\n",
      "Name: count, dtype: int64\n"
     ]
    }
   ],
   "source": [
    "#obtaining counts of each status\n",
    "status_category_counts = vehicles_df['Status'].value_counts()\n",
    "\n",
    "print(status_category_counts)"
   ]
  },
  {
   "cell_type": "code",
   "execution_count": 9,
   "metadata": {},
   "outputs": [
    {
     "name": "stdout",
     "output_type": "stream",
     "text": [
      "Wheelchair Accessible\n",
      "N    15978\n",
      "Y      624\n",
      "Name: count, dtype: int64\n"
     ]
    }
   ],
   "source": [
    "#Wheel chair accessibility \n",
    "wheelchair_category_counts = vehicles_df['Wheelchair Accessible'].value_counts()\n",
    "\n",
    "print(wheelchair_category_counts)"
   ]
  },
  {
   "cell_type": "code",
   "execution_count": 10,
   "metadata": {},
   "outputs": [
    {
     "name": "stdout",
     "output_type": "stream",
     "text": [
      "Vehicle Fuel Source\n",
      "Gasoline                  9938\n",
      "Hybrid                    5969\n",
      "Pedal                      215\n",
      "Flex Fuel                  192\n",
      "Diesel                      96\n",
      "Compressed Natural Gas      91\n",
      "Horse                       59\n",
      "Electric                    33\n",
      "Bio-Diesel                   9\n",
      "Name: count, dtype: int64\n"
     ]
    }
   ],
   "source": [
    "#Fuel type variation\n",
    "fuel_category_counts = vehicles_df['Vehicle Fuel Source'].value_counts()\n",
    "\n",
    "print(fuel_category_counts)"
   ]
  },
  {
   "cell_type": "code",
   "execution_count": 11,
   "metadata": {},
   "outputs": [
    {
     "data": {
      "text/plain": [
       "1838"
      ]
     },
     "execution_count": 11,
     "metadata": {},
     "output_type": "execute_result"
    }
   ],
   "source": [
    "#Detecting Duplicates\n",
    "duplicates = vehicles_df[vehicles_df.duplicated(subset='Record ID', keep=False)]\n",
    "len(duplicates)\n"
   ]
  },
  {
   "cell_type": "code",
   "execution_count": 12,
   "metadata": {},
   "outputs": [
    {
     "name": "stdout",
     "output_type": "stream",
     "text": [
      "       Index  Public Vehicle Number     Status Vehicle Make Vehicle Model  \\\n",
      "0       1286                  12009   RESERVED    CHEVROLET       EXPRESS   \n",
      "1       2095                  12248   INACTIVE     MERCEDES      SPRINTER   \n",
      "2       7950                  13527   INACTIVE     VAN HOOL         TD925   \n",
      "4       9359                  13528   INACTIVE     VAN HOOL         TD925   \n",
      "5       9441                  12025   INACTIVE     MERCEDES      SPRINTER   \n",
      "...      ...                    ...        ...          ...           ...   \n",
      "16594  16033                    166     ACTIVE      MANMADE       CLASSIC   \n",
      "16595  16048                    194   INACTIVE   MAINSTREET     BOARDWALK   \n",
      "16597  16143                     42     ACTIVE    PRECISION      6 SEATER   \n",
      "16599  16216                     70  VIOLATION   MAINSTREET       CLASSIC   \n",
      "16601  16281                    117     ACTIVE      SCHWINN          NONE   \n",
      "\n",
      "       Vehicle Model Year Vehicle Color Vehicle Fuel Source  \\\n",
      "0                  2014.0         BLACK          Bio-Diesel   \n",
      "1                  2010.0        SILVER          Bio-Diesel   \n",
      "2                  2008.0           RED          Bio-Diesel   \n",
      "4                  2008.0           RED          Bio-Diesel   \n",
      "5                  2015.0         BLACK          Bio-Diesel   \n",
      "...                   ...           ...                 ...   \n",
      "16594              2018.0         BLACK               Pedal   \n",
      "16595              2005.0         BLACK               Pedal   \n",
      "16597              2020.0        FUSCIA               Pedal   \n",
      "16599                 0.0     RED/BLACK               Pedal   \n",
      "16601              2014.0         GREEN               Pedal   \n",
      "\n",
      "      Wheelchair Accessible                             Company Name  \\\n",
      "0                         N                CHICAGO PRIVATE TOURS LLC   \n",
      "1                         N  O'HARE-MIDWAY LIMOUSINE SERVICE INC # 2   \n",
      "2                         N                 TRT TRANSPORTATION, INC.   \n",
      "4                         N                 TRT TRANSPORTATION, INC.   \n",
      "5                         N  O'HARE-MIDWAY LIMOUSINE SERVICE INC # 2   \n",
      "...                     ...                                      ...   \n",
      "16594                     N                   CHICAGO GREEN BIKE LLC   \n",
      "16595                     N                     CITY OF CHICAGO BACP   \n",
      "16597                     N               JBL PEDICAB MANAGEMENT LLC   \n",
      "16599                     N                       EMPIRE PEDICAB LLC   \n",
      "16601                     N                          BM PEDICAB INC.   \n",
      "\n",
      "                      Address     City State  ZIP Code Taxi Affiliation  \\\n",
      "0      4567 S. OAKENWALD AVE.  CHICAGO    IL   60653.0              NaN   \n",
      "1           4610 N. CLARK ST.  CHICAGO    IL   60640.0              NaN   \n",
      "2         4400 S. RACINE AVE.  CHICAGO    IL   60609.0              NaN   \n",
      "4         4400 S. RACINE AVE.  CHICAGO    IL   60609.0              NaN   \n",
      "5           4610 N. CLARK ST.  CHICAGO    IL   60640.0              NaN   \n",
      "...                       ...      ...   ...       ...              ...   \n",
      "16594   1919 S. MICHIGAN AVE.  CHICAGO    IL   60616.0              NaN   \n",
      "16595                     NaN      NaN   NaN       NaN              NaN   \n",
      "16597      1627 N. TRIPP AVE.  CHICAGO    IL   60639.0              NaN   \n",
      "16599        318 W. ADAMS ST.  CHICAGO    IL   60606.0              NaN   \n",
      "16601     4450 N. KEDZIE AVE.  CHICAGO    IL   60625.0              NaN   \n",
      "\n",
      "      Taxi Medallion License Management                  Record ID  \n",
      "0                                    NaN  12009Charter Sightseeing  \n",
      "1                                    NaN  12248Charter Sightseeing  \n",
      "2                                    NaN  13527Charter Sightseeing  \n",
      "4                                    NaN  13528Charter Sightseeing  \n",
      "5                                    NaN  12025Charter Sightseeing  \n",
      "...                                  ...                       ...  \n",
      "16594                                NaN                166Pedicab  \n",
      "16595                                NaN                194Pedicab  \n",
      "16597                                NaN                 42Pedicab  \n",
      "16599                                NaN                 70Pedicab  \n",
      "16601                                NaN                117Pedicab  \n",
      "\n",
      "[15667 rows x 17 columns]\n"
     ]
    }
   ],
   "source": [
    "#Removing Duplicates\n",
    "vehicles_df = vehicles_df.drop_duplicates(subset=['Record ID'], keep='first')\n",
    "print(vehicles_df)\n",
    "vehicles_df.to_csv('cleaned_vehicles.csv', index=False)"
   ]
  },
  {
   "cell_type": "code",
   "execution_count": 13,
   "metadata": {},
   "outputs": [
    {
     "data": {
      "text/plain": [
       "Index                                 15667\n",
       "Public Vehicle Number                 14473\n",
       "Status                                    8\n",
       "Vehicle Make                             86\n",
       "Vehicle Model                           292\n",
       "Vehicle Model Year                       48\n",
       "Vehicle Color                            88\n",
       "Vehicle Fuel Source                       9\n",
       "Wheelchair Accessible                     2\n",
       "Company Name                           7494\n",
       "Address                                2366\n",
       "City                                     37\n",
       "State                                     1\n",
       "ZIP Code                                 92\n",
       "Taxi Affiliation                         24\n",
       "Taxi Medallion License Management        10\n",
       "Record ID                             15667\n",
       "dtype: int64"
      ]
     },
     "execution_count": 13,
     "metadata": {},
     "output_type": "execute_result"
    }
   ],
   "source": [
    "#count the number of unique values for each column in the dataframe\n",
    "vehicles_df.nunique()"
   ]
  },
  {
   "cell_type": "code",
   "execution_count": 14,
   "metadata": {},
   "outputs": [
    {
     "data": {
      "text/plain": [
       "Index                                    0\n",
       "Public Vehicle Number                    0\n",
       "Status                                   0\n",
       "Vehicle Make                          1816\n",
       "Vehicle Model                         1859\n",
       "Vehicle Model Year                    1841\n",
       "Vehicle Color                         1883\n",
       "Vehicle Fuel Source                      0\n",
       "Wheelchair Accessible                    0\n",
       "Company Name                             0\n",
       "Address                               1694\n",
       "City                                  1694\n",
       "State                                 1694\n",
       "ZIP Code                              1694\n",
       "Taxi Affiliation                      8710\n",
       "Taxi Medallion License Management     8736\n",
       "Record ID                                0\n",
       "dtype: int64"
      ]
     },
     "execution_count": 14,
     "metadata": {},
     "output_type": "execute_result"
    }
   ],
   "source": [
    "#count number of null values in the columns of the dataframe\n",
    "vehicles_df.isnull().sum()"
   ]
  },
  {
   "cell_type": "markdown",
   "metadata": {},
   "source": [
    "Here we are dropping rows where the following columns contain missing values (`NaN`):\n",
    "- `Address`: Contains 1688 missing values.\n",
    "- `City`: Contains 1688 missing values.\n",
    "- `State`: Contains 1688 missing values.\n",
    "- `ZIP Code`: Contains 1688 missing values.\n",
    "- `Vehicle Model Year`: Contains 1819 missing values.\n",
    "\n",
    "These columns are critical for analysis, so rows with incomplete data in these fields are removed."
   ]
  },
  {
   "cell_type": "code",
   "execution_count": 15,
   "metadata": {},
   "outputs": [],
   "source": [
    "vehicles_df.dropna(subset= ['Address','City','State', 'ZIP Code', 'Vehicle Model Year'], inplace = True)"
   ]
  },
  {
   "cell_type": "code",
   "execution_count": 16,
   "metadata": {},
   "outputs": [
    {
     "name": "stdout",
     "output_type": "stream",
     "text": [
      "Cleaned DataFrame saved to 'rows_drop_1_vehicles.csv'.\n",
      "       Index  Public Vehicle Number     Status Vehicle Make Vehicle Model  \\\n",
      "0       1286                  12009   RESERVED    CHEVROLET       EXPRESS   \n",
      "1       2095                  12248   INACTIVE     MERCEDES      SPRINTER   \n",
      "2       7950                  13527   INACTIVE     VAN HOOL         TD925   \n",
      "4       9359                  13528   INACTIVE     VAN HOOL         TD925   \n",
      "5       9441                  12025   INACTIVE     MERCEDES      SPRINTER   \n",
      "...      ...                    ...        ...          ...           ...   \n",
      "16592  15938                    150     ACTIVE          VIP       CLASSIC   \n",
      "16594  16033                    166     ACTIVE      MANMADE       CLASSIC   \n",
      "16597  16143                     42     ACTIVE    PRECISION      6 SEATER   \n",
      "16599  16216                     70  VIOLATION   MAINSTREET       CLASSIC   \n",
      "16601  16281                    117     ACTIVE      SCHWINN          NONE   \n",
      "\n",
      "       Vehicle Model Year Vehicle Color Vehicle Fuel Source  \\\n",
      "0                  2014.0         BLACK          Bio-Diesel   \n",
      "1                  2010.0        SILVER          Bio-Diesel   \n",
      "2                  2008.0           RED          Bio-Diesel   \n",
      "4                  2008.0           RED          Bio-Diesel   \n",
      "5                  2015.0         BLACK          Bio-Diesel   \n",
      "...                   ...           ...                 ...   \n",
      "16592              2014.0         GREEN               Pedal   \n",
      "16594              2018.0         BLACK               Pedal   \n",
      "16597              2020.0        FUSCIA               Pedal   \n",
      "16599                 0.0     RED/BLACK               Pedal   \n",
      "16601              2014.0         GREEN               Pedal   \n",
      "\n",
      "      Wheelchair Accessible                             Company Name  \\\n",
      "0                         N                CHICAGO PRIVATE TOURS LLC   \n",
      "1                         N  O'HARE-MIDWAY LIMOUSINE SERVICE INC # 2   \n",
      "2                         N                 TRT TRANSPORTATION, INC.   \n",
      "4                         N                 TRT TRANSPORTATION, INC.   \n",
      "5                         N  O'HARE-MIDWAY LIMOUSINE SERVICE INC # 2   \n",
      "...                     ...                                      ...   \n",
      "16592                     N                    PEDICAB RIDE GUYS LLC   \n",
      "16594                     N                   CHICAGO GREEN BIKE LLC   \n",
      "16597                     N               JBL PEDICAB MANAGEMENT LLC   \n",
      "16599                     N                       EMPIRE PEDICAB LLC   \n",
      "16601                     N                          BM PEDICAB INC.   \n",
      "\n",
      "                          Address     City State  ZIP Code Taxi Affiliation  \\\n",
      "0          4567 S. OAKENWALD AVE.  CHICAGO    IL   60653.0              NaN   \n",
      "1               4610 N. CLARK ST.  CHICAGO    IL   60640.0              NaN   \n",
      "2             4400 S. RACINE AVE.  CHICAGO    IL   60609.0              NaN   \n",
      "4             4400 S. RACINE AVE.  CHICAGO    IL   60609.0              NaN   \n",
      "5               4610 N. CLARK ST.  CHICAGO    IL   60640.0              NaN   \n",
      "...                           ...      ...   ...       ...              ...   \n",
      "16592  1919 S. MICHIGAN AVE. AVE.  CHICAGO    IL   60616.0              NaN   \n",
      "16594       1919 S. MICHIGAN AVE.  CHICAGO    IL   60616.0              NaN   \n",
      "16597          1627 N. TRIPP AVE.  CHICAGO    IL   60639.0              NaN   \n",
      "16599            318 W. ADAMS ST.  CHICAGO    IL   60606.0              NaN   \n",
      "16601         4450 N. KEDZIE AVE.  CHICAGO    IL   60625.0              NaN   \n",
      "\n",
      "      Taxi Medallion License Management                  Record ID  \n",
      "0                                    NaN  12009Charter Sightseeing  \n",
      "1                                    NaN  12248Charter Sightseeing  \n",
      "2                                    NaN  13527Charter Sightseeing  \n",
      "4                                    NaN  13528Charter Sightseeing  \n",
      "5                                    NaN  12025Charter Sightseeing  \n",
      "...                                  ...                       ...  \n",
      "16592                                NaN                150Pedicab  \n",
      "16594                                NaN                166Pedicab  \n",
      "16597                                NaN                 42Pedicab  \n",
      "16599                                NaN                 70Pedicab  \n",
      "16601                                NaN                117Pedicab  \n",
      "\n",
      "[13820 rows x 17 columns]\n"
     ]
    }
   ],
   "source": [
    "# Save the cleaned DataFrame to a CSV file\n",
    "vehicles_df.to_csv(\"rows_drop_1_vehicles.csv\", index=False)\n",
    "\n",
    "print(\"Cleaned DataFrame saved to 'rows_drop_1_vehicles.csv'.\")\n",
    "print(vehicles_df)"
   ]
  },
  {
   "cell_type": "code",
   "execution_count": 22,
   "metadata": {},
   "outputs": [
    {
     "name": "stdout",
     "output_type": "stream",
     "text": [
      "       Index  Public Vehicle Number     Status Vehicle Make Vehicle Model  \\\n",
      "0       1286                  12009   RESERVED    CHEVROLET       EXPRESS   \n",
      "1       2095                  12248   INACTIVE     MERCEDES      SPRINTER   \n",
      "2       7950                  13527   INACTIVE     VAN HOOL         TD925   \n",
      "4       9359                  13528   INACTIVE     VAN HOOL         TD925   \n",
      "5       9441                  12025   INACTIVE     MERCEDES      SPRINTER   \n",
      "...      ...                    ...        ...          ...           ...   \n",
      "16592  15938                    150     ACTIVE          VIP       CLASSIC   \n",
      "16594  16033                    166     ACTIVE      MANMADE       CLASSIC   \n",
      "16597  16143                     42     ACTIVE    PRECISION      6 SEATER   \n",
      "16599  16216                     70  VIOLATION   MAINSTREET       CLASSIC   \n",
      "16601  16281                    117     ACTIVE      SCHWINN          NONE   \n",
      "\n",
      "       Vehicle Model Year Vehicle Color Vehicle Fuel Source  \\\n",
      "0                  2014.0         BLACK          Bio-Diesel   \n",
      "1                  2010.0        SILVER          Bio-Diesel   \n",
      "2                  2008.0           RED          Bio-Diesel   \n",
      "4                  2008.0           RED          Bio-Diesel   \n",
      "5                  2015.0         BLACK          Bio-Diesel   \n",
      "...                   ...           ...                 ...   \n",
      "16592              2014.0         GREEN               Pedal   \n",
      "16594              2018.0         BLACK               Pedal   \n",
      "16597              2020.0        FUSCIA               Pedal   \n",
      "16599                 0.0     RED/BLACK               Pedal   \n",
      "16601              2014.0         GREEN               Pedal   \n",
      "\n",
      "      Wheelchair Accessible                             Company Name  \\\n",
      "0                         N                CHICAGO PRIVATE TOURS LLC   \n",
      "1                         N  O'HARE-MIDWAY LIMOUSINE SERVICE INC # 2   \n",
      "2                         N                 TRT TRANSPORTATION, INC.   \n",
      "4                         N                 TRT TRANSPORTATION, INC.   \n",
      "5                         N  O'HARE-MIDWAY LIMOUSINE SERVICE INC # 2   \n",
      "...                     ...                                      ...   \n",
      "16592                     N                    PEDICAB RIDE GUYS LLC   \n",
      "16594                     N                   CHICAGO GREEN BIKE LLC   \n",
      "16597                     N               JBL PEDICAB MANAGEMENT LLC   \n",
      "16599                     N                       EMPIRE PEDICAB LLC   \n",
      "16601                     N                          BM PEDICAB INC.   \n",
      "\n",
      "                          Address     City State  ZIP Code Taxi Affiliation  \\\n",
      "0          4567 S. OAKENWALD AVE.  CHICAGO    IL   60653.0              NaN   \n",
      "1               4610 N. CLARK ST.  CHICAGO    IL   60640.0              NaN   \n",
      "2             4400 S. RACINE AVE.  CHICAGO    IL   60609.0              NaN   \n",
      "4             4400 S. RACINE AVE.  CHICAGO    IL   60609.0              NaN   \n",
      "5               4610 N. CLARK ST.  CHICAGO    IL   60640.0              NaN   \n",
      "...                           ...      ...   ...       ...              ...   \n",
      "16592  1919 S. MICHIGAN AVE. AVE.  CHICAGO    IL   60616.0              NaN   \n",
      "16594       1919 S. MICHIGAN AVE.  CHICAGO    IL   60616.0              NaN   \n",
      "16597          1627 N. TRIPP AVE.  CHICAGO    IL   60639.0              NaN   \n",
      "16599            318 W. ADAMS ST.  CHICAGO    IL   60606.0              NaN   \n",
      "16601         4450 N. KEDZIE AVE.  CHICAGO    IL   60625.0              NaN   \n",
      "\n",
      "      Taxi Medallion License Management                  Record ID  \\\n",
      "0                                    NaN  12009Charter Sightseeing   \n",
      "1                                    NaN  12248Charter Sightseeing   \n",
      "2                                    NaN  13527Charter Sightseeing   \n",
      "4                                    NaN  13528Charter Sightseeing   \n",
      "5                                    NaN  12025Charter Sightseeing   \n",
      "...                                  ...                       ...   \n",
      "16592                                NaN                150Pedicab   \n",
      "16594                                NaN                166Pedicab   \n",
      "16597                                NaN                 42Pedicab   \n",
      "16599                                NaN                 70Pedicab   \n",
      "16601                                NaN                117Pedicab   \n",
      "\n",
      "      Vehicle Type  \n",
      "0          Charter  \n",
      "1          Charter  \n",
      "2          Charter  \n",
      "4          Charter  \n",
      "5          Charter  \n",
      "...            ...  \n",
      "16592      Pedicab  \n",
      "16594      Pedicab  \n",
      "16597      Pedicab  \n",
      "16599      Pedicab  \n",
      "16601      Pedicab  \n",
      "\n",
      "[13820 rows x 18 columns]\n"
     ]
    }
   ],
   "source": [
    "#adding a string column indicating the type of the public passenger vehicle(Extracting from the record ID)\n",
    "vehicles_df['Vehicle Type'] = vehicles_df['Record ID'].str.extract(r'([A-Za-z]+)')\n",
    "print(vehicles_df)"
   ]
  },
  {
   "cell_type": "code",
   "execution_count": null,
   "metadata": {},
   "outputs": [
    {
     "name": "stdout",
     "output_type": "stream",
     "text": [
      "       Index     Status Vehicle Make Vehicle Model  Vehicle Model Year  \\\n",
      "0       1286   RESERVED    CHEVROLET       EXPRESS              2014.0   \n",
      "1       2095   INACTIVE     MERCEDES      SPRINTER              2010.0   \n",
      "2       7950   INACTIVE     VAN HOOL         TD925              2008.0   \n",
      "4       9359   INACTIVE     VAN HOOL         TD925              2008.0   \n",
      "5       9441   INACTIVE     MERCEDES      SPRINTER              2015.0   \n",
      "...      ...        ...          ...           ...                 ...   \n",
      "16592  15938     ACTIVE          VIP       CLASSIC              2014.0   \n",
      "16594  16033     ACTIVE      MANMADE       CLASSIC              2018.0   \n",
      "16597  16143     ACTIVE    PRECISION      6 SEATER              2020.0   \n",
      "16599  16216  VIOLATION   MAINSTREET       CLASSIC                 0.0   \n",
      "16601  16281     ACTIVE      SCHWINN          NONE              2014.0   \n",
      "\n",
      "      Vehicle Color Vehicle Fuel Source Wheelchair Accessible  \\\n",
      "0             BLACK          Bio-Diesel                     N   \n",
      "1            SILVER          Bio-Diesel                     N   \n",
      "2               RED          Bio-Diesel                     N   \n",
      "4               RED          Bio-Diesel                     N   \n",
      "5             BLACK          Bio-Diesel                     N   \n",
      "...             ...                 ...                   ...   \n",
      "16592         GREEN               Pedal                     N   \n",
      "16594         BLACK               Pedal                     N   \n",
      "16597        FUSCIA               Pedal                     N   \n",
      "16599     RED/BLACK               Pedal                     N   \n",
      "16601         GREEN               Pedal                     N   \n",
      "\n",
      "                                  Company Name     City State  ZIP Code  \\\n",
      "0                    CHICAGO PRIVATE TOURS LLC  CHICAGO    IL   60653.0   \n",
      "1      O'HARE-MIDWAY LIMOUSINE SERVICE INC # 2  CHICAGO    IL   60640.0   \n",
      "2                     TRT TRANSPORTATION, INC.  CHICAGO    IL   60609.0   \n",
      "4                     TRT TRANSPORTATION, INC.  CHICAGO    IL   60609.0   \n",
      "5      O'HARE-MIDWAY LIMOUSINE SERVICE INC # 2  CHICAGO    IL   60640.0   \n",
      "...                                        ...      ...   ...       ...   \n",
      "16592                    PEDICAB RIDE GUYS LLC  CHICAGO    IL   60616.0   \n",
      "16594                   CHICAGO GREEN BIKE LLC  CHICAGO    IL   60616.0   \n",
      "16597               JBL PEDICAB MANAGEMENT LLC  CHICAGO    IL   60639.0   \n",
      "16599                       EMPIRE PEDICAB LLC  CHICAGO    IL   60606.0   \n",
      "16601                          BM PEDICAB INC.  CHICAGO    IL   60625.0   \n",
      "\n",
      "      Taxi Affiliation Taxi Medallion License Management   \\\n",
      "0                  NaN                                NaN   \n",
      "1                  NaN                                NaN   \n",
      "2                  NaN                                NaN   \n",
      "4                  NaN                                NaN   \n",
      "5                  NaN                                NaN   \n",
      "...                ...                                ...   \n",
      "16592              NaN                                NaN   \n",
      "16594              NaN                                NaN   \n",
      "16597              NaN                                NaN   \n",
      "16599              NaN                                NaN   \n",
      "16601              NaN                                NaN   \n",
      "\n",
      "                      Record ID Vehicle Type  \n",
      "0      12009Charter Sightseeing      Charter  \n",
      "1      12248Charter Sightseeing      Charter  \n",
      "2      13527Charter Sightseeing      Charter  \n",
      "4      13528Charter Sightseeing      Charter  \n",
      "5      12025Charter Sightseeing      Charter  \n",
      "...                         ...          ...  \n",
      "16592                150Pedicab      Pedicab  \n",
      "16594                166Pedicab      Pedicab  \n",
      "16597                 42Pedicab      Pedicab  \n",
      "16599                 70Pedicab      Pedicab  \n",
      "16601                117Pedicab      Pedicab  \n",
      "\n",
      "[13820 rows x 16 columns]\n"
     ]
    }
   ],
   "source": [
    "#Drop columns address and public vehicle number\n",
    "vehicles_df = vehicles_df.drop(columns=['Address','Public Vehicle Number'])\n",
    "\n",
    "print(vehicles_df)"
   ]
  }
 ],
 "metadata": {
  "kernelspec": {
   "display_name": ".env",
   "language": "python",
   "name": "python3"
  },
  "language_info": {
   "codemirror_mode": {
    "name": "ipython",
    "version": 3
   },
   "file_extension": ".py",
   "mimetype": "text/x-python",
   "name": "python",
   "nbconvert_exporter": "python",
   "pygments_lexer": "ipython3",
   "version": "3.13.0"
  }
 },
 "nbformat": 4,
 "nbformat_minor": 2
}
